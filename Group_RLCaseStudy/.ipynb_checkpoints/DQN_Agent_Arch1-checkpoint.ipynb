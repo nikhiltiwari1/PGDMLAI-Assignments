{
 "cells": [
  {
   "cell_type": "markdown",
   "metadata": {},
   "source": [
    "### Cab-Driver Agent"
   ]
  },
  {
   "cell_type": "code",
   "execution_count": 1,
   "metadata": {},
   "outputs": [
    {
     "name": "stderr",
     "output_type": "stream",
     "text": [
      "Using TensorFlow backend.\n"
     ]
    }
   ],
   "source": [
    "# Importing libraries\n",
    "import numpy as np\n",
    "import random\n",
    "import math\n",
    "from collections import deque\n",
    "import collections\n",
    "import pickle\n",
    "\n",
    "# for building DQN model\n",
    "from keras import layers\n",
    "from keras import Sequential\n",
    "from keras.layers import Dense, Activation, Flatten\n",
    "from keras.optimizers import Adam\n",
    "\n",
    "# for plotting graphs\n",
    "import matplotlib.pyplot as plt\n",
    "\n",
    "# Import the environment\n",
    "from Env import CabDriver"
   ]
  },
  {
   "cell_type": "code",
   "execution_count": 2,
   "metadata": {},
   "outputs": [],
   "source": [
    "# For saving the model in Pickle file\n",
    "import types\n",
    "import tempfile\n",
    "import keras.models\n",
    "\n",
    "def make_keras_picklable():\n",
    "    def __getstate__(self):\n",
    "        model_str = \"\"\n",
    "        with tempfile.NamedTemporaryFile(suffix='.hdf5', delete=True) as fd:\n",
    "            keras.models.save_model(self, fd.name, overwrite=True)\n",
    "            model_str = fd.read()\n",
    "        d = { 'model_str': model_str }\n",
    "        return d\n",
    "\n",
    "    def __setstate__(self, state):\n",
    "        with tempfile.NamedTemporaryFile(suffix='.hdf5', delete=True) as fd:\n",
    "            fd.write(state['model_str'])\n",
    "            fd.flush()\n",
    "            model = keras.models.load_model(fd.name)\n",
    "        self.__dict__ = model.__dict__\n",
    "\n",
    "\n",
    "    cls = keras.models.Model\n",
    "    cls.__getstate__ = __getstate__\n",
    "    cls.__setstate__ = __setstate__\n",
    "\n",
    "make_keras_picklable()"
   ]
  },
  {
   "cell_type": "markdown",
   "metadata": {},
   "source": [
    "#### Defining Time Matrix"
   ]
  },
  {
   "cell_type": "code",
   "execution_count": 3,
   "metadata": {},
   "outputs": [],
   "source": [
    "# Loading the time matrix provided\n",
    "Time_matrix = np.load(\"TM.npy\")"
   ]
  },
  {
   "cell_type": "markdown",
   "metadata": {},
   "source": [
    "#### Tracking the state-action pairs for checking convergence\n"
   ]
  },
  {
   "cell_type": "code",
   "execution_count": 4,
   "metadata": {},
   "outputs": [],
   "source": [
    "# Initialising the States_tracked (for convergence) for storing the Q values\n",
    "\n",
    "States_track = collections.defaultdict(dict)"
   ]
  },
  {
   "cell_type": "code",
   "execution_count": 5,
   "metadata": {},
   "outputs": [],
   "source": [
    "# Initialising states to be tracked\n",
    "def initialise_tracking_states():\n",
    "    # selecting any 5 Q-values\n",
    "    sample_q_values = [((1,13,5),(1,4)),((2,7,1),(3,5)), ((3,19,4),(2,1)), ((4,2,0),(3,5)), ((5,22,6),(5,1))]\n",
    "    for q_values in sample_q_values:\n",
    "        state = q_values[0]\n",
    "        action = q_values[1]\n",
    "        States_track[state][action] = []"
   ]
  },
  {
   "cell_type": "code",
   "execution_count": 6,
   "metadata": {},
   "outputs": [],
   "source": [
    "# Defining a function to save the tracked states, rewards, loss as a pickle file\n",
    "def save_obj(obj, name ):\n",
    "    with open(name + '.pkl', 'wb') as f:\n",
    "        pickle.dump(obj, f, pickle.HIGHEST_PROTOCOL)"
   ]
  },
  {
   "cell_type": "markdown",
   "metadata": {},
   "source": [
    "### Agent Class\n",
    "\n",
    "If you are using this framework, you need to fill the following to complete the following code block:\n",
    "1. State and Action Size\n",
    "2. Hyperparameters\n",
    "3. Create a neural-network model in function 'build_model()'\n",
    "4. Define epsilon-greedy strategy in function 'get_action()'\n",
    "5. Complete the function 'append_sample()'. This function appends the recent experience tuple <state, action, reward, new-state> to the memory\n",
    "6. Complete the 'train_model()' function with following logic:\n",
    "   - If the memory size is greater than mini-batch size, you randomly sample experiences from memory as per the mini-batch size and do the following:\n",
    "      - Initialise your input and output batch for training the model\n",
    "      - Calculate the target Q value for each sample: reward + gamma*max(Q(s'a,))\n",
    "      - Get Q(s', a) values from the last trained model\n",
    "      - Update the input batch as your encoded state and output batch as your Q-values\n",
    "      - Then fit your DQN model using the updated input and output batch."
   ]
  },
  {
   "cell_type": "code",
   "execution_count": 7,
   "metadata": {},
   "outputs": [],
   "source": [
    "class DQNAgent:\n",
    "    def __init__(self, state_size, action_size):\n",
    "        \n",
    "        # Define size of state and action\n",
    "        self.state_size = state_size\n",
    "        self.action_size = action_size\n",
    "\n",
    "        # Write here: Specify you hyper parameters for the DQN\n",
    "        \n",
    "        self.discount_factor = 0.99\n",
    "        self.learning_rate = 0.01    \n",
    "        self.epsilon_max = 1\n",
    "        self.epsilon = 1\n",
    "        self.epsilon_decay = 0.0009\n",
    "        self.epsilon_min = 0.01\n",
    "        \n",
    "        self.batch_size = 32\n",
    "        \n",
    "        # create replay memory using deque\n",
    "        self.memory = deque(maxlen=2000)\n",
    "\n",
    "        # create the model\n",
    "        self.model = self.build_model()\n",
    "\n",
    "    # approximate Q function using Neural Network\n",
    "    def build_model(self):\n",
    "        \n",
    "        input_shape = self.state_size\n",
    "        output_shape = self.action_size\n",
    "        \n",
    "        model = Sequential()\n",
    "        \n",
    "        # Write your code here: Add layers to your neural nets \n",
    "        \n",
    "        # hidden layers\n",
    "        model.add(Dense(32, input_dim=input_shape, activation='relu', kernel_initializer='he_uniform'))\n",
    "        model.add(Dense(32, activation='relu', kernel_initializer='he_uniform'))\n",
    "        \n",
    "        # the output layer: output is of size num_actions\n",
    "        model.add(Dense(output_shape, activation='relu', kernel_initializer='he_uniform'))\n",
    "        \n",
    "        model.summary()\n",
    "        \n",
    "        model.compile(loss='mse',optimizer=Adam(lr=self.learning_rate))\n",
    "        \n",
    "        return model\n",
    "\n",
    "\n",
    "\n",
    "    def get_action(self, state, time):\n",
    "    # Write your code here:\n",
    "    # get action from model using epsilon-greedy policy\n",
    "    # Decay in ε after we generate each sample from the environment\n",
    "    \n",
    "        # Get the requests from the environment\n",
    "        possible_actions_index, actions = env.requests(state)\n",
    "        \n",
    "        # Exploring the action space\n",
    "        if np.random.rand() <= self.epsilon:\n",
    "            \n",
    "            action = actions[random.randrange(len(actions))]\n",
    "            \n",
    "        else:\n",
    "            # Exploiting or the greedy approach\n",
    "            \n",
    "            # the first index corresponds to the batch size, so reshaping\n",
    "            # Also encoding the state to be feb to the network\n",
    "            state = env.state_encod_arch1(state).reshape(1, self.state_size)\n",
    "            q_value = self.model.predict(state)\n",
    "            \n",
    "            # choose the action with the highest q(s, a) among the requests that have come from the environment\n",
    "            # that is, choose max from within the possible_actions_index\n",
    "            \n",
    "            action = actions[np.argmax(q_value[0][possible_actions_index])]\n",
    "        \n",
    "        # implement epsilon decay\n",
    "        if self.epsilon > self.epsilon_min:\n",
    "            self.epsilon = self.epsilon_min + (self.epsilon_max - self.epsilon_min) * np.exp(-self.epsilon_decay*time)\n",
    "        \n",
    "        return action  \n",
    "        \n",
    "\n",
    "\n",
    "    def append_sample(self, state, action, reward, next_state):\n",
    "    # Write your code here:\n",
    "    # save sample <s,a,r,s'> to the replay memory\n",
    "        self.memory.append((state, action, reward, next_state))\n",
    "    \n",
    "    \n",
    "    \n",
    "    # pick samples randomly from replay memory (with batch_size) and train the network\n",
    "    # Trains the NN model and returns the loss after training\n",
    "    def train_model(self):\n",
    "\n",
    "        if len(self.memory) > self.batch_size:\n",
    "            # Sample batch from the memory\n",
    "            mini_batch = random.sample(self.memory, self.batch_size)\n",
    "            \n",
    "            # Create placeholders for state vectors\n",
    "            update_output = np.zeros((self.batch_size, self.state_size))# write here\n",
    "            update_input = np.zeros((self.batch_size, self.state_size))# write here\n",
    "            \n",
    "            actions, rewards = [], []\n",
    "            \n",
    "            # Pick sample from memory\n",
    "            for i in range(self.batch_size):\n",
    "                state, action, reward, next_state = mini_batch[i]\n",
    "                update_input[i] = env.state_encod_arch1(state)\n",
    "                actions.append(action)\n",
    "                rewards.append(reward)\n",
    "                update_output[i] = env.state_encod_arch1(next_state)\n",
    "                \n",
    "            # Write your code from here\n",
    "            # 1. Predict the target from earlier model\n",
    "            target = self.model.predict(update_input)                \n",
    "\n",
    "            # 2. Get the target for the Q-network\n",
    "            target_qval = self.model.predict(update_output)\n",
    "\n",
    "            #3. Update the target values\n",
    "            for i in range(self.batch_size):\n",
    "                target[i][actions[i]] = rewards[i] + self.discount_factor * np.max(target_qval[i])\n",
    "                \n",
    "                \n",
    "        # 4. Fit your model and track the loss values\n",
    "            history = self.model.fit(update_input, target, batch_size=self.batch_size, epochs=1, verbose=0)\n",
    "            \n",
    "            # return the loss\n",
    "            return history.history['loss'][0]\n",
    "        \n",
    "        return 0\n",
    "\n",
    "    # Save the model\n",
    "    def save(self, name):\n",
    "        self.model.save(name)\n",
    "    \n",
    "    # Function to store the q values in the states tracked dictionary for tracking the convergence\n",
    "    def store_q_values(self):\n",
    "        \n",
    "        for state in States_track.keys():\n",
    "            qvals = self.model.predict(env.state_encod_arch1(state).reshape(1, self.state_size))\n",
    "            for action in States_track[state].keys():\n",
    "                i = action_space.index(action)\n",
    "                States_track[state][action].append(qvals[0][i]) "
   ]
  },
  {
   "cell_type": "code",
   "execution_count": 8,
   "metadata": {},
   "outputs": [],
   "source": [
    "# Define number of episodes for training\n",
    "Episodes = 10000"
   ]
  },
  {
   "cell_type": "markdown",
   "metadata": {},
   "source": [
    "### DQN block"
   ]
  },
  {
   "cell_type": "code",
   "execution_count": 9,
   "metadata": {},
   "outputs": [
    {
     "name": "stdout",
     "output_type": "stream",
     "text": [
      "_________________________________________________________________\n",
      "Layer (type)                 Output Shape              Param #   \n",
      "=================================================================\n",
      "dense_1 (Dense)              (None, 32)                1184      \n",
      "_________________________________________________________________\n",
      "dense_2 (Dense)              (None, 32)                1056      \n",
      "_________________________________________________________________\n",
      "dense_3 (Dense)              (None, 21)                693       \n",
      "=================================================================\n",
      "Total params: 2,933\n",
      "Trainable params: 2,933\n",
      "Non-trainable params: 0\n",
      "_________________________________________________________________\n",
      "episode 0, reward -339.0, memory_length 142, epsilon 1.0, loss 11004667.240115166\n",
      "episode 50, reward -64.0, memory_length 2000, epsilon 0.9564375070147689, loss 2992617.8466796875\n",
      "episode 100, reward -114.0, memory_length 2000, epsilon 0.9147918734185159, loss 573276881.375\n",
      "episode 150, reward 20.0, memory_length 2000, epsilon 0.8749787525711541, loss 1751084.0546875\n",
      "episode 200, reward 134.0, memory_length 2000, epsilon 0.8369175092971592, loss 2659004.9951171875\n",
      "episode 250, reward -25.0, memory_length 2000, epsilon 0.8005310565717833, loss 8849249.76171875\n",
      "episode 300, reward -2.0, memory_length 2000, epsilon 0.7657456993934846, loss 8811091.95703125\n",
      "episode 350, reward 373.0, memory_length 2000, epsilon 0.7324909855263663, loss 25138665.4609375\n",
      "episode 400, reward 80.0, memory_length 2000, epsilon 0.7006995628103208, loss 10731583.890625\n",
      "episode 450, reward 351.0, memory_length 2000, epsilon 0.6703070427498896, loss 14618231.64453125\n",
      "episode 500, reward 198.0, memory_length 2000, epsilon 0.6412518701055556, loss 13163477.1875\n",
      "episode 550, reward 742.0, memory_length 2000, epsilon 0.6134751982233462, loss 11826739.328125\n",
      "episode 600, reward 350.0, memory_length 2000, epsilon 0.5869207698502498, loss 13843248.60546875\n",
      "episode 650, reward 444.0, memory_length 2000, epsilon 0.5615348031940521, loss 10781392.26171875\n",
      "episode 700, reward 242.0, memory_length 2000, epsilon 0.5372658829968282, loss 13233371005.0\n",
      "episode 750, reward 795.0, memory_length 2000, epsilon 0.5140648564014737, loss 9851890.9140625\n",
      "episode 800, reward 714.0, memory_length 2000, epsilon 0.491884733400372, loss 9275144.9765625\n",
      "episode 850, reward 670.0, memory_length 2000, epsilon 0.47068059166457027, loss 9164257.296875\n",
      "episode 900, reward 573.0, memory_length 2000, epsilon 0.45040948556071175, loss 6559091.2373046875\n",
      "episode 950, reward 571.0, memory_length 2000, epsilon 0.4310303591714514, loss 9601636.572265625\n",
      "episode 1000, reward 409.0, memory_length 2000, epsilon 0.4125039631431931, loss 7745791.470703125\n",
      "episode 1050, reward 782.0, memory_length 2000, epsilon 0.39479277519273553, loss 9494046.763671875\n",
      "episode 1100, reward 752.0, memory_length 2000, epsilon 0.37786092411182526, loss 9134308.890625\n",
      "episode 1150, reward 540.0, memory_length 2000, epsilon 0.361674117115702, loss 8243260.890625\n",
      "episode 1200, reward 922.0, memory_length 2000, epsilon 0.34619957038848975, loss 7033382.74609375\n",
      "episode 1250, reward 574.0, memory_length 2000, epsilon 0.33140594268476625, loss 8204626.19140625\n",
      "episode 1300, reward 1038.0, memory_length 2000, epsilon 0.3172632718528302, loss 7201752.3876953125\n",
      "episode 1350, reward 989.0, memory_length 2000, epsilon 0.3037429141511049, loss 7126167.865234375\n",
      "episode 1400, reward 682.0, memory_length 2000, epsilon 0.2908174862347727, loss 6641516.84765625\n",
      "episode 1450, reward 712.0, memory_length 2000, epsilon 0.2784608096951439, loss 6206425.1318359375\n",
      "episode 1500, reward 967.0, memory_length 2000, epsilon 0.26664785803943264, loss 5581713.546875\n",
      "episode 1550, reward 668.0, memory_length 2000, epsilon 0.2553547060035565, loss 15564284.55078125\n",
      "episode 1600, reward 596.0, memory_length 2000, epsilon 0.24455848109530054, loss 5426994.95057106\n",
      "episode 1650, reward 949.0, memory_length 2000, epsilon 0.23423731726970412, loss 4844430.37890625\n",
      "episode 1700, reward 678.0, memory_length 2000, epsilon 0.22437031064284702, loss 13350882.701171875\n",
      "episode 1750, reward 841.0, memory_length 2000, epsilon 0.21493747715434114, loss 4806659.6229457855\n",
      "episode 1800, reward 1057.0, memory_length 2000, epsilon 0.20591971209277857, loss 6305988.593092918\n",
      "episode 1850, reward 1111.0, memory_length 2000, epsilon 0.19729875140216221, loss 5680590.735834122\n",
      "episode 1900, reward 895.0, memory_length 2000, epsilon 0.1890571346909509, loss 5204790.4638671875\n",
      "episode 1950, reward 868.0, memory_length 2000, epsilon 0.18117816986879923, loss 5018122.229003906\n",
      "episode 2000, reward 975.0, memory_length 2000, epsilon 0.17364589933937066, loss 4198040.317469597\n",
      "episode 2050, reward 80.0, memory_length 2000, epsilon 0.16644506768075132, loss 905708050.4642334\n",
      "episode 2100, reward 1111.0, memory_length 2000, epsilon 0.15956109074800717, loss 4203372.382946014\n",
      "episode 2150, reward 1061.0, memory_length 2000, epsilon 0.15298002613530656, loss 3836326.1187705994\n",
      "episode 2200, reward 544.0, memory_length 2000, epsilon 0.1466885449377839, loss 4558268.3671875\n",
      "episode 2250, reward 1305.0, memory_length 2000, epsilon 0.14067390475595193, loss 4075306.596473694\n",
      "episode 2300, reward 1199.0, memory_length 2000, epsilon 0.13492392388798838, loss 5080427.511620998\n",
      "episode 2350, reward 592.0, memory_length 2000, epsilon 0.12942695665762674, loss 3242875.636857033\n",
      "episode 2400, reward 1237.0, memory_length 2000, epsilon 0.12417186982768189, loss 4375682.050880432\n",
      "episode 2450, reward 787.0, memory_length 2000, epsilon 0.11914802005144036, loss 4221061.34737587\n",
      "episode 2500, reward 1239.0, memory_length 2000, epsilon 0.11434523231624569, loss 3263865.9029302597\n",
      "episode 2550, reward 1035.0, memory_length 2000, epsilon 0.1097537793356207, loss 3412179.982316494\n",
      "episode 2600, reward 926.0, memory_length 2000, epsilon 0.10536436184818809, loss 2954021.8636598587\n",
      "episode 2650, reward 1129.0, memory_length 2000, epsilon 0.10116808978348837, loss 2871366.942513466\n",
      "episode 2700, reward 1182.0, memory_length 2000, epsilon 0.09715646425654886, loss 3964680.9237241745\n",
      "episode 2750, reward 1071.0, memory_length 2000, epsilon 0.09332136035473725, loss 4558642.899949074\n",
      "episode 2800, reward 926.0, memory_length 2000, epsilon 0.08965501068203711, loss 3212577.190354824\n",
      "episode 2850, reward 1137.0, memory_length 2000, epsilon 0.08614998962741616, loss 2576518.1631393433\n",
      "episode 2900, reward 990.0, memory_length 2000, epsilon 0.08279919832542652, loss 3924973.2064785957\n",
      "episode 2950, reward 1201.0, memory_length 2000, epsilon 0.07959585027857619, loss 2314698.1364016533\n",
      "episode 3000, reward 1112.0, memory_length 2000, epsilon 0.07653345761235228, loss 3202715.145480156\n",
      "episode 3050, reward 864.0, memory_length 2000, epsilon 0.07360581793505805, loss 2876362.0451688766\n",
      "episode 3100, reward 920.0, memory_length 2000, epsilon 0.07080700177585013, loss 2814509.206035614\n",
      "episode 3150, reward 1218.0, memory_length 2000, epsilon 0.06813134057553356, loss 3358998.17969656\n",
      "episode 3200, reward 1084.0, memory_length 2000, epsilon 0.06557341520579238, loss 2765070.820641041\n",
      "episode 3250, reward 829.0, memory_length 2000, epsilon 0.06312804499360283, loss 2621980.786828518\n",
      "episode 3300, reward 1019.0, memory_length 2000, epsilon 0.06079027722859995, loss 4140950.717086792\n",
      "episode 3350, reward 1065.0, memory_length 2000, epsilon 0.05855537713214656, loss 2306599.629044056\n",
      "episode 3400, reward 994.0, memory_length 2000, epsilon 0.0564188182677886, loss 2892166.1092648506\n",
      "episode 3450, reward 1386.0, memory_length 2000, epsilon 0.054376273373674205, loss 2260845.4635181427\n",
      "episode 3500, reward 1089.0, memory_length 2000, epsilon 0.05242360559836979, loss 2958131.1830615997\n",
      "episode 3550, reward 931.0, memory_length 2000, epsilon 0.05055686012232212, loss 2985086.2526597977\n",
      "episode 3600, reward 954.0, memory_length 2000, epsilon 0.04877225614799721, loss 2681243.877896309\n",
      "episode 3650, reward 996.0, memory_length 2000, epsilon 0.04706617924247326, loss 2365244.104327202\n",
      "episode 3700, reward 1011.0, memory_length 2000, epsilon 0.04543517401697875, loss 2730918.534571171\n",
      "episode 3750, reward 1187.0, memory_length 2000, epsilon 0.043875937128549376, loss 2064186.8265480995\n"
     ]
    },
    {
     "name": "stdout",
     "output_type": "stream",
     "text": [
      "episode 3800, reward 894.0, memory_length 2000, epsilon 0.042385310589629625, loss 2735307.046432972\n",
      "episode 3850, reward 629.0, memory_length 2000, epsilon 0.04096027537206874, loss 14648698.405418396\n",
      "episode 3900, reward 975.0, memory_length 2000, epsilon 0.03959794529255706, loss 2612191.834731102\n",
      "episode 3950, reward 1153.0, memory_length 2000, epsilon 0.0382955611671184, loss 2390467.1729431152\n",
      "episode 4000, reward 1006.0, memory_length 2000, epsilon 0.03705048522281963, loss 2047800.657251358\n",
      "episode 4050, reward 1249.0, memory_length 2000, epsilon 0.03586019575537905, loss 2066509.5466227531\n",
      "episode 4100, reward 1192.0, memory_length 2000, epsilon 0.034722282021853394, loss 1845144.6305794716\n",
      "episode 4150, reward 1205.0, memory_length 2000, epsilon 0.03363443935805956, loss 2779578.554233074\n",
      "episode 4200, reward -1.0, memory_length 2000, epsilon 0.03259446451084205, loss 645486538.5836792\n",
      "episode 4250, reward 1227.0, memory_length 2000, epsilon 0.03160025117573235, loss 2433952.910680294\n",
      "episode 4300, reward 936.0, memory_length 2000, epsilon 0.030649785730962567, loss 2160976.928834915\n",
      "episode 4350, reward 1070.0, memory_length 2000, epsilon 0.029741143159193295, loss 2130073.3029999733\n",
      "episode 4400, reward 1233.0, memory_length 2000, epsilon 0.02887248314869552, loss 2019685.7157363892\n",
      "episode 4450, reward 22.0, memory_length 2000, epsilon 0.028042046366090527, loss 34087399.9263916\n",
      "episode 4500, reward 510.0, memory_length 2000, epsilon 0.02724815089309858, loss 9232432.401582718\n",
      "episode 4550, reward 1639.0, memory_length 2000, epsilon 0.026489188820079577, loss 2434275.1528549194\n",
      "episode 4600, reward 1449.0, memory_length 2000, epsilon 0.025763622989466578, loss 1934253.9857010841\n",
      "episode 4650, reward 1419.0, memory_length 2000, epsilon 0.025069983882496413, loss 2331354.2662057877\n",
      "episode 4700, reward 935.0, memory_length 2000, epsilon 0.024406866642931974, loss 3057125.8004875183\n",
      "episode 4750, reward 1454.0, memory_length 2000, epsilon 0.023772928231748255, loss 1531993.794933796\n",
      "episode 4800, reward 1363.0, memory_length 2000, epsilon 0.02316688470701933, loss 1985780.5842494965\n",
      "episode 4850, reward 1037.0, memory_length 2000, epsilon 0.022587508623497232, loss 2318464.039958\n",
      "episode 4900, reward 1351.0, memory_length 2000, epsilon 0.022033626546615788, loss 2121388.1156396866\n",
      "episode 4950, reward 1727.0, memory_length 2000, epsilon 0.021504116675884637, loss 1943189.3616056442\n",
      "episode 5000, reward 1008.0, memory_length 2000, epsilon 0.02099790657285988, loss 2711185.9391059875\n",
      "episode 5050, reward 1278.0, memory_length 2000, epsilon 0.020513970989089747, loss 1756801.7380638123\n",
      "episode 5100, reward 1080.0, memory_length 2000, epsilon 0.020051329789636065, loss 2126381.4930648804\n",
      "episode 5150, reward 1268.0, memory_length 2000, epsilon 0.0196090459679661, loss 1383664.2628092766\n",
      "episode 5200, reward 1247.0, memory_length 2000, epsilon 0.019186223748194096, loss 1668498.056910038\n",
      "episode 5250, reward 994.0, memory_length 2000, epsilon 0.018782006770828974, loss 3599814.905694008\n",
      "episode 5300, reward 1513.0, memory_length 2000, epsilon 0.018395576358353736, loss 1645953.5600361824\n",
      "episode 5350, reward 1611.0, memory_length 2000, epsilon 0.01802614985712368, loss 1560873.6556453705\n",
      "episode 5400, reward 1584.0, memory_length 2000, epsilon 0.017672979052225334, loss 2096367.2385673523\n",
      "episode 5450, reward 890.0, memory_length 2000, epsilon 0.01733534865208554, loss 2532835.24462986\n",
      "episode 5500, reward 953.0, memory_length 2000, epsilon 0.017012574839761596, loss 1800463.4894599915\n",
      "episode 5550, reward 1511.0, memory_length 2000, epsilon 0.01670400388797824, loss 2035937.5603494644\n",
      "episode 5600, reward 1430.0, memory_length 2000, epsilon 0.01640901083510651, loss 2079849.1698055267\n",
      "episode 5650, reward 1717.0, memory_length 2000, epsilon 0.016126998219402878, loss 1600061.2296409607\n",
      "episode 5700, reward 1338.0, memory_length 2000, epsilon 0.015857394868945038, loss 1873585.035891533\n",
      "episode 5750, reward 1152.0, memory_length 2000, epsilon 0.015599654744813576, loss 1968749.046655655\n",
      "episode 5800, reward 1466.0, memory_length 2000, epsilon 0.01535325583517655, loss 2005570.9384784698\n",
      "episode 5850, reward 1530.0, memory_length 2000, epsilon 0.01511769909803713, loss 1953217.1772179604\n",
      "episode 5900, reward 1502.0, memory_length 2000, epsilon 0.014892507450503023, loss 1866315.6648917198\n",
      "episode 5950, reward -240.0, memory_length 2000, epsilon 0.01467722480253057, loss 1288142721.8436584\n",
      "episode 6000, reward 1638.0, memory_length 2000, epsilon 0.014471415133186543, loss 1801194.8061447144\n",
      "episode 6050, reward 1328.0, memory_length 2000, epsilon 0.014274661607556747, loss 2187469.6585974693\n",
      "episode 6100, reward 1278.0, memory_length 2000, epsilon 0.014086565732512882, loss 1668358.4002685547\n",
      "episode 6150, reward 1130.0, memory_length 2000, epsilon 0.013906746549627752, loss 1789344.5233426094\n",
      "episode 6200, reward 1115.0, memory_length 2000, epsilon 0.013734839863604284, loss 2094128.842306614\n",
      "episode 6250, reward 1228.0, memory_length 2000, epsilon 0.013570497504655573, loss 1659823.6981019974\n",
      "episode 6300, reward 1115.0, memory_length 2000, epsilon 0.013413386623342096, loss 2598786.1565027237\n",
      "episode 6350, reward 462.0, memory_length 2000, epsilon 0.013263189016437832, loss 11562.212733268738\n",
      "episode 6400, reward 1407.0, memory_length 2000, epsilon 0.013119600482459998, loss 39396.66391658783\n",
      "episode 6450, reward 1707.0, memory_length 2000, epsilon 0.012982330205557082, loss 91807.66902756691\n",
      "episode 6500, reward 1434.0, memory_length 2000, epsilon 0.01285110016650736, loss 42482.59640789032\n",
      "episode 6550, reward 1696.0, memory_length 2000, epsilon 0.01272564457963497, loss 89663.13880586624\n",
      "episode 6600, reward 1421.0, memory_length 2000, epsilon 0.012605709354503069, loss 90688.9206802845\n",
      "episode 6650, reward -107.0, memory_length 2000, epsilon 0.012491051581293886, loss 3401349.62531662\n",
      "episode 6700, reward 1631.0, memory_length 2000, epsilon 0.012381439038833314, loss 129446.56299948692\n",
      "episode 6750, reward 1088.0, memory_length 2000, epsilon 0.012276649724263688, loss 58792.599588394165\n",
      "episode 6800, reward 1988.0, memory_length 2000, epsilon 0.012176471403412107, loss 133915.97991871834\n",
      "episode 6850, reward 1264.0, memory_length 2000, epsilon 0.012080701180943726, loss 97999.31089401245\n",
      "episode 6900, reward 1615.0, memory_length 2000, epsilon 0.01198914508942936, loss 42694.40117287636\n",
      "episode 6950, reward 1579.0, memory_length 2000, epsilon 0.011901617696495144, loss 109731.354773283\n",
      "episode 7000, reward 1530.0, memory_length 2000, epsilon 0.011817941729258619, loss 28715.382885694504\n",
      "episode 7050, reward 1733.0, memory_length 2000, epsilon 0.011737947715290551, loss 221697.10303092003\n",
      "episode 7100, reward 1658.0, memory_length 2000, epsilon 0.011661473639375355, loss 132025.7270796299\n",
      "episode 7150, reward 1961.0, memory_length 2000, epsilon 0.011588364615374916, loss 96542.60117602348\n",
      "episode 7200, reward 1776.0, memory_length 2000, epsilon 0.01151847257253122, loss 125023.87012934685\n",
      "episode 7250, reward 1732.0, memory_length 2000, epsilon 0.011451655955572475, loss 222227.5876250267\n",
      "episode 7300, reward 1687.0, memory_length 2000, epsilon 0.011387779438015309, loss 56673.13665127754\n",
      "episode 7350, reward 1512.0, memory_length 2000, epsilon 0.011326713648082389, loss 225202.7132718563\n",
      "episode 7400, reward 1232.0, memory_length 2000, epsilon 0.01126833490668037, loss 44957.54569840431\n",
      "episode 7450, reward 1660.0, memory_length 2000, epsilon 0.011212524976907452, loss 50639.11319613457\n",
      "episode 7500, reward 2037.0, memory_length 2000, epsilon 0.011159170824583262, loss 52842.38367676735\n",
      "episode 7550, reward 1836.0, memory_length 2000, epsilon 0.011108164389315998, loss 31179.464030981064\n",
      "episode 7600, reward 1989.0, memory_length 2000, epsilon 0.011059402365643208, loss 132368.94535636902\n",
      "episode 7650, reward 864.0, memory_length 2000, epsilon 0.011012785993802936, loss 76360.35200119019\n",
      "episode 7700, reward 1362.0, memory_length 2000, epsilon 0.010968220859711442, loss 136892.6276268959\n",
      "episode 7750, reward 1633.0, memory_length 2000, epsilon 0.010925616703742416, loss 89640.8088555336\n",
      "episode 7800, reward 1480.0, memory_length 2000, epsilon 0.010884887237920405, loss 62426.00093817711\n"
     ]
    },
    {
     "name": "stdout",
     "output_type": "stream",
     "text": [
      "episode 7850, reward 1880.0, memory_length 2000, epsilon 0.010845949971158154, loss 142047.6808423996\n",
      "episode 7900, reward 1640.0, memory_length 2000, epsilon 0.01080872604218398, loss 50734.809077858925\n",
      "episode 7950, reward 1812.0, memory_length 2000, epsilon 0.010773140059820734, loss 24405.73357105255\n",
      "episode 8000, reward 1385.0, memory_length 2000, epsilon 0.010739119950292912, loss 122643.41235589981\n",
      "episode 8050, reward 1406.0, memory_length 2000, epsilon 0.01070659681125263, loss 79312.41121053696\n",
      "episode 8100, reward 940.0, memory_length 2000, epsilon 0.010675504772228813, loss 319617.60419654846\n",
      "episode 8150, reward 1655.0, memory_length 2000, epsilon 0.010645780861216987, loss 46483.28742647171\n",
      "episode 8200, reward 1817.0, memory_length 2000, epsilon 0.01061736487713945, loss 10570.143432378769\n",
      "episode 8250, reward 857.0, memory_length 2000, epsilon 0.010590199267917516, loss 380761.5647678375\n",
      "episode 8300, reward 1353.0, memory_length 2000, epsilon 0.010564229013908884, loss 39308.43186998367\n",
      "episode 8350, reward 1322.0, memory_length 2000, epsilon 0.010539401516474067, loss 113876.63791584969\n",
      "episode 8400, reward 1237.0, memory_length 2000, epsilon 0.010515666491446163, loss 81108.20540332794\n",
      "episode 8450, reward 1494.0, memory_length 2000, epsilon 0.010492975867288241, loss 155260.21086740494\n",
      "episode 8500, reward 1470.0, memory_length 2000, epsilon 0.010471283687732048, loss 46749.43315219879\n",
      "episode 8550, reward 1333.0, memory_length 2000, epsilon 0.010450546018700855, loss 57189.627779483795\n",
      "episode 8600, reward 1671.0, memory_length 2000, epsilon 0.010430720859327945, loss 855.6689577102661\n",
      "episode 8650, reward 1642.0, memory_length 2000, epsilon 0.010411768056890505, loss 10865.419628620148\n",
      "episode 8700, reward 1736.0, memory_length 2000, epsilon 0.01039364922548663, loss 110631.65053153038\n",
      "episode 8750, reward 48.0, memory_length 2000, epsilon 0.01037632766829077, loss 191609.80973052979\n",
      "episode 8800, reward 1431.0, memory_length 2000, epsilon 0.010359768303230097, loss 9566.66375207901\n",
      "episode 8850, reward 1683.0, memory_length 2000, epsilon 0.01034393759193134, loss 88535.9961771965\n",
      "episode 8900, reward 1233.0, memory_length 2000, epsilon 0.010328803471794101, loss 39777.41015100479\n",
      "episode 8950, reward 1023.0, memory_length 2000, epsilon 0.010314335291053143, loss 175835.21893119812\n",
      "episode 9000, reward 1650.0, memory_length 2000, epsilon 0.01030050374669808, loss 104065.57151269913\n",
      "episode 9050, reward 1341.0, memory_length 2000, epsilon 0.010287280825124775, loss 60085.288766145706\n",
      "episode 9100, reward 836.0, memory_length 2000, epsilon 0.01027463974539822, loss 164813.2362332344\n",
      "episode 9150, reward 1494.0, memory_length 2000, epsilon 0.010262554905011982, loss 1081.9440484046936\n",
      "episode 9200, reward 1342.0, memory_length 2000, epsilon 0.010251001828034383, loss 47563.34078168869\n",
      "episode 9250, reward 1643.0, memory_length 2000, epsilon 0.010239957115536375, loss 1165.9826166629791\n",
      "episode 9300, reward 1906.0, memory_length 2000, epsilon 0.01022939839820071, loss 946.8963918685913\n",
      "episode 9350, reward 1362.0, memory_length 2000, epsilon 0.010219304291016425, loss 79337.44383859634\n",
      "episode 9400, reward 2154.0, memory_length 2000, epsilon 0.010209654349966896, loss 60608.704645872116\n",
      "episode 9450, reward 1601.0, memory_length 2000, epsilon 0.010200429030623707, loss 23035.003773212433\n",
      "episode 9500, reward 1496.0, memory_length 2000, epsilon 0.010191609648562514, loss 38914.166811943054\n",
      "episode 9550, reward 926.0, memory_length 2000, epsilon 0.010183178341520688, loss 67465.7509970665\n",
      "episode 9600, reward 1437.0, memory_length 2000, epsilon 0.01017511803322014, loss 38586.01635479927\n",
      "episode 9650, reward 1537.0, memory_length 2000, epsilon 0.01016741239878202, loss 53667.40005302429\n",
      "episode 9700, reward 1687.0, memory_length 2000, epsilon 0.01016004583166325, loss 62745.49135565758\n",
      "episode 9750, reward 1542.0, memory_length 2000, epsilon 0.01015300341204795, loss 12062.687294960022\n",
      "episode 9800, reward 1476.0, memory_length 2000, epsilon 0.010146270876629714, loss 82435.73678970337\n",
      "episode 9850, reward 1848.0, memory_length 2000, epsilon 0.010139834589723526, loss 43089.28215050697\n",
      "episode 9900, reward 1174.0, memory_length 2000, epsilon 0.010133681515648855, loss 2004.0149822235107\n",
      "episode 9950, reward 1729.0, memory_length 2000, epsilon 0.010127799192327938, loss 794.8890268802643\n"
     ]
    }
   ],
   "source": [
    "# Define lists to store rewards and loss in each episode\n",
    "rewards_per_episode, episodes, loss_per_episode = [], [], []\n",
    "\n",
    "# Write code here\n",
    "\n",
    "# Call the environment\n",
    "env = CabDriver()\n",
    "\n",
    "# Call the DQN agent with input and output size\n",
    "agent = DQNAgent(state_size = 36, action_size = 21)\n",
    "\n",
    "# Initialize tracking states\n",
    "initialise_tracking_states()\n",
    "\n",
    "# Start the simulation\n",
    "for episode in range(Episodes):\n",
    "   \n",
    "    # Initialize the state\n",
    "    action_space, state_space, state = env.reset()\n",
    "  \n",
    "    # Define some variales for each episode\n",
    "    terminal_state = False\n",
    "    total_hours_worked = 0\n",
    "    score_per_episode = 0\n",
    "    loss = 0\n",
    "    \n",
    "    # Starting with the steps in every episode\n",
    "    while not terminal_state:\n",
    "        \n",
    "        # Write your code here\n",
    "        # 1. Pick epsilon-greedy action from possible actions for the current state\n",
    "        action = agent.get_action(state, episode)        \n",
    "        \n",
    "        # 2. Evaluate your reward and next state\n",
    "        reward = env.reward_func(state, action, Time_matrix)\n",
    "        next_state = env.next_state_func(state, action, Time_matrix)\n",
    "        \n",
    "        # 3. Append the experience to the memory\n",
    "        agent.append_sample(state, action_space.index(action), reward, next_state)\n",
    "        \n",
    "        # 4. Train the model by calling function agent.train_model\n",
    "        loss_per_step = agent.train_model()\n",
    "        \n",
    "        # 5. Keep a track of rewards and loss\n",
    "        score_per_episode+=reward\n",
    "        loss+=loss_per_step\n",
    "        \n",
    "        \n",
    "        # Keeping track of total hours worked for monitoring end of episode\n",
    "        if action == (0,0):\n",
    "            total_hours_worked+=1\n",
    "        else:\n",
    "            time_ItoP = Time_matrix[state[0]-1][action[0]-1][state[1]][state[2]]\n",
    "            \n",
    "            new_time, new_day = env.new_time_day(state[1], state[2], time_ItoP)\n",
    "            \n",
    "            time_PtoD = Time_matrix[action[0]-1][action[1]-1][new_time][new_day]\n",
    "            \n",
    "            total_hours_worked = total_hours_worked+time_ItoP+time_PtoD\n",
    "        \n",
    "        # Episode ends after a month, that is 24*30 hours\n",
    "        if total_hours_worked >= 720:\n",
    "            terminal_state = True\n",
    "        \n",
    "        # Current state transition to next state\n",
    "        state = next_state\n",
    "    \n",
    "    # store total reward obtained and total loss in this episode\n",
    "    rewards_per_episode.append(score_per_episode)\n",
    "    episodes.append(episode)\n",
    "    loss_per_episode.append(loss)\n",
    "\n",
    "    \n",
    "    # For every few episodes...\n",
    "    \n",
    "    if episode % 50 == 0:\n",
    "        print(\"episode {0}, reward {1}, memory_length {2}, epsilon {3}, loss {4}\".format(episode,\n",
    "                                                                         score_per_episode,\n",
    "                                                                         len(agent.memory),\n",
    "                                                                         agent.epsilon,loss))\n",
    "        # Keeping track of Q values\n",
    "        # store q-values of some prespecified state-action pairs\n",
    "        agent.store_q_values()\n",
    "\n",
    "        # save model weights\n",
    "        agent.save(name=\"model_weights.h5\")\n",
    "        \n",
    "        save_obj(agent.model, 'trained_model')\n",
    "        "
   ]
  },
  {
   "cell_type": "code",
   "execution_count": 10,
   "metadata": {},
   "outputs": [],
   "source": [
    "# save the rewards_per_episode, loss and tracked state-action pairs\n",
    "save_obj(rewards_per_episode, 'rewards_per_episode')\n",
    "save_obj(loss_per_episode,'loss_per_episode')\n",
    "save_obj(States_track,'States_track')"
   ]
  },
  {
   "cell_type": "markdown",
   "metadata": {},
   "source": [
    "### Tracking Convergence"
   ]
  },
  {
   "cell_type": "code",
   "execution_count": 11,
   "metadata": {},
   "outputs": [
    {
     "data": {
      "text/plain": [
       "Text(0,0.5,'reward per episode')"
      ]
     },
     "execution_count": 11,
     "metadata": {},
     "output_type": "execute_result"
    },
    {
     "data": {
      "image/png": "[encoded data removed]",
      "text/plain": [
       "<matplotlib.figure.Figure at 0x7fa5c579bd68>"
      ]
     },
     "metadata": {},
     "output_type": "display_data"
    }
   ],
   "source": [
    "# Load the rewards and plot the results\n",
    "with open('rewards_per_episode.pkl', 'rb') as f:\n",
    "    rewards_per_episode = pickle.load(f)\n",
    "\n",
    "plt.plot(list(range(len(rewards_per_episode))), rewards_per_episode)\n",
    "plt.xlabel(\"episode number\")\n",
    "plt.ylabel(\"reward per episode\")"
   ]
  },
  {
   "cell_type": "code",
   "execution_count": 12,
   "metadata": {},
   "outputs": [
    {
     "data": {
      "text/plain": [
       "Text(0,0.5,'loss per episode')"
      ]
     },
     "execution_count": 12,
     "metadata": {},
     "output_type": "execute_result"
    },
    {
     "data": {
      "image/png": "[encoded data removed]",
      "text/plain": [
       "<matplotlib.figure.Figure at 0x7fa5c579b1d0>"
      ]
     },
     "metadata": {},
     "output_type": "display_data"
    }
   ],
   "source": [
    "# Load the loss and plot the results\n",
    "with open('loss_per_episode.pkl', 'rb') as f:\n",
    "    loss_per_episode = pickle.load(f)\n",
    "\n",
    "plt.plot(list(range(len(loss_per_episode))), loss_per_episode)\n",
    "plt.xlabel(\"episode number\")\n",
    "plt.ylabel(\"loss per episode\")"
   ]
  },
  {
   "cell_type": "code",
   "execution_count": 13,
   "metadata": {},
   "outputs": [],
   "source": [
    "# Load the q values of state action pairs\n",
    "with open('States_track.pkl', 'rb') as f:\n",
    "    States_track = pickle.load(f)"
   ]
  },
  {
   "cell_type": "code",
   "execution_count": 14,
   "metadata": {},
   "outputs": [
    {
     "data": {
      "text/plain": [
       "<function matplotlib.pyplot.show(*args, **kw)>"
      ]
     },
     "execution_count": 14,
     "metadata": {},
     "output_type": "execute_result"
    },
    {
     "data": {
      "image/png": "[encoded data removed]",
      "text/plain": [
       "<matplotlib.figure.Figure at 0x7fa5acf1e438>"
      ]
     },
     "metadata": {},
     "output_type": "display_data"
    }
   ],
   "source": [
    "# Tracked state action pairs\n",
    "#[((1,13,5),(1,4)),((2,7,1),(3,5)), ((3,19,4),(2,1)), ((4,2,0),(3,5)), ((5,22,6),(5,1))]\n",
    "# Plot the results\n",
    "\n",
    "plt.figure(0, figsize=(16,7))\n",
    "\n",
    "xaxis = np.asarray(range(0, len(States_track[(1,13,5)][(1,4)])))\n",
    "plt.subplot(241)\n",
    "plt.plot(xaxis,np.asarray(States_track[(1,13,5)][(1,4)]))\n",
    "plt.show\n",
    "\n",
    "xaxis = np.asarray(range(0, len(States_track[(2,7,1)][(3,5)])))\n",
    "plt.subplot(242)\n",
    "plt.plot(xaxis,np.asarray(States_track[(2,7,1)][(3,5)]))\n",
    "plt.show\n",
    "\n",
    "xaxis = np.asarray(range(0, len(States_track[(3,19,4)][(2,1)])))\n",
    "plt.subplot(243)\n",
    "plt.plot(xaxis,np.asarray(States_track[(3,19,4)][(2,1)]))\n",
    "plt.show\n",
    "\n",
    "xaxis = np.asarray(range(0, len(States_track[(4,2,0)][(3,5)])))\n",
    "plt.subplot(244)\n",
    "plt.plot(xaxis,np.asarray(States_track[(4,2,0)][(3,5)]))\n",
    "plt.show\n",
    "\n",
    "xaxis = np.asarray(range(0, len(States_track[(5,22,6)][(5,1)])))\n",
    "plt.subplot(245)\n",
    "plt.plot(xaxis,np.asarray(States_track[(5,22,6)][(5,1)]))\n",
    "plt.show"
   ]
  },
  {
   "cell_type": "markdown",
   "metadata": {},
   "source": [
    "#### Epsilon-decay sample function"
   ]
  },
  {
   "cell_type": "markdown",
   "metadata": {},
   "source": [
    "<div class=\"alert alert-block alert-info\">\n",
    "Try building a similar epsilon-decay function for your model.\n",
    "</div>"
   ]
  },
  {
   "cell_type": "code",
   "execution_count": 15,
   "metadata": {},
   "outputs": [],
   "source": [
    "time = np.arange(0,10000)\n",
    "epsilon = []\n",
    "for i in range(0,10000):\n",
    "    epsilon.append(0.01 + (1 - 0.01) * np.exp(-0.0009*i))"
   ]
  },
  {
   "cell_type": "code",
   "execution_count": 16,
   "metadata": {},
   "outputs": [
    {
     "data": {
      "image/png": "[encoded data removed]",
      "text/plain": [
       "<matplotlib.figure.Figure at 0x7fa5ac2e52e8>"
      ]
     },
     "metadata": {},
     "output_type": "display_data"
    }
   ],
   "source": [
    "plt.plot(time, epsilon)\n",
    "plt.show()"
   ]
  },
  {
   "cell_type": "code",
   "execution_count": null,
   "metadata": {},
   "outputs": [],
   "source": []
  }
 ],
 "metadata": {
  "kernelspec": {
   "display_name": "Python 3",
   "language": "python",
   "name": "python3"
  },
  "language_info": {
   "codemirror_mode": {
    "name": "ipython",
    "version": 3
   },
   "file_extension": ".py",
   "mimetype": "text/x-python",
   "name": "python",
   "nbconvert_exporter": "python",
   "pygments_lexer": "ipython3",
   "version": "3.6.8"
  }
 },
 "nbformat": 4,
 "nbformat_minor": 2
}
